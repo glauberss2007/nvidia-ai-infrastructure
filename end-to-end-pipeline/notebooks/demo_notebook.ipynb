{
 "cells": [
  {
   "cell_type": "markdown",
   "metadata": {},
   "source": [
    "# End-to-End AI Pipeline Demo\n",
    "\n",
    "Este notebook demonstra o pipeline completo de AI."
   ]
  },
  {
   "cell_type": "code",
   "execution_count": null,
   "metadata": {},
   "outputs": [],
   "source": [
    "# Configuração inicial\n",
    "import sys\n",
    "import os\n",
    "sys.path.append('../')\n",
    "\n",
    "from config import Config\n",
    "print(f\"Working directory: {Config.BASE_DIR}\")"
   ]
  },
  {
   "cell_type": "markdown",
   "metadata": {},
   "source": [
    "## 1. ETL Pipeline"
   ]
  },
  {
   "cell_type": "code",
   "execution_count": null,
   "metadata": {},
   "outputs": [],
   "source": [
    "from src.etl.data_loader import get_data_stats\n",
    "\n",
    "train_loader, test_loader = get_data_stats()"
   ]
  },
  {
   "cell_type": "markdown",
   "metadata": {},
   "source": [
    "## 2. Model Training"
   ]
  },
  {
   "cell_type": "code",
   "execution_count": null,
   "metadata": {},
   "outputs": [],
   "source": [
    "from src.training.model import create_model\n",
    "from src.training.train import train_model, evaluate_model\n",
    "import torch\n",
    "\n",
    "device = 'cuda' if torch.cuda.is_available() else 'cpu'\n",
    "model = create_model()\n",
    "\n",
    "print(f\"Training on: {device}\")\n",
    "train_losses, train_accuracies = train_model(\n",
    "    model, train_loader, test_loader, \n",
    "    epochs=2, device=device  # 2 epochs para demo rápida\n",
    ")"
   ]
  },
  {
   "cell_type": "markdown",
   "metadata": {},
   "source": [
    "## 3. Inference Test"
   ]
  },
  {
   "cell_type": "code",
   "execution_count": null,
   "metadata": {},
   "outputs": [],
   "source": [
    "# Teste de inferência local\n",
    "model.eval()\n",
    "with torch.no_grad():\n",
    "    test_images, test_labels = next(iter(test_loader))\n",
    "    predictions = model(test_images.to(device))\n",
    "    \n",
    "print(f\"Predictions shape: {predictions.shape}\")\n",
    "print(f\"Sample prediction: {predictions[0].cpu().numpy()}\")"
   ]
  },
  {
   "cell_type": "markdown",
   "metadata": {},
   "source": [
    "## 4. GPU Monitoring"
   ]
  },
  {
   "cell_type": "code",
   "execution_count": null,
   "metadata": {},
   "outputs": [],
   "source": [
    "from src.utils.monitoring import monitor_gpu\n",
    "\n",
    "# Monitora GPU por 30 segundos\n",
    "gpu_stats = monitor_gpu(duration=30, interval=5)"
   ]
  }
 ],
 "metadata": {
  "kernelspec": {
   "display_name": "Python 3",
   "language": "python",
   "name": "python3"
  },
  "language_info": {
   "codemirror_mode": {
    "name": "ipython",
    "version": 3
   },
   "file_extension": ".py",
   "mimetype": "text/x-python",
   "name": "python",
   "nbconvert_exporter": "python",
   "pygments_lexer": "ipython3",
   "version": "3.8.10"
  }
 },
 "nbformat": 4,
 "nbformat_minor": 4
}